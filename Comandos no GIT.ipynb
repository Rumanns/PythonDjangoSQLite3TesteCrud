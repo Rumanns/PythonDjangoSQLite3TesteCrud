{
 "cells": [
  {
   "cell_type": "markdown",
   "id": "7e840246",
   "metadata": {},
   "source": [
    "# Comandos importantes no git:\n",
    "\n",
    "Git é um sistema de versionamento de arquivos necessários pra parar com kralho de copia e cola pra salvar funcionamentos importantes de um projeto.\n",
    "\n",
    "**git init:** Inicia o git na pasta selecionada no shell script\n",
    "\n",
    "**git add:** Adiciona itens do diretório no stage para serem \"commitados\"\n",
    "\n",
    "**git commit -m 'mensagem':** \"Commita\", salva as alterações feitas no diretório ou em arquivos dentro dele, o '-m' é indicando que tem uma mensagem adiante e 'mensagem' (tem que ser entre apótrofos!) é para indicar qual mensagem vai ser salva naquela versão.\n",
    "\n",
    "**git log -2:** Verifica quais são as duas últimas versões salvas do projeto. Mas o '-2' pode ser facultativo ou outro número.\n",
    "\n",
    "**git tag -a v1 -m 'mensagem':** Isso é feito para utilizar tags ao invés do nome 'SHA' do arquivo. Onde '-a' indica o nome da tag, que será o v1 (sem apóstrofo nem aspas), '-m' indica a mensagem que se segue entre apóstrofo **'mensagem'**.\n",
    "\n",
    "**git tag -d v1:** Isso remove a tag **v1** do arquivo. Lembrando que um arquivo pode ter mais de uma tag.\n",
    "\n",
    "**git checkout v1**: Puxa a versão **v1** do projeto, no lugar de **'v1'** pode ser utilizado o nome SHA do arquivo, esse nome é o código **'commit'** da primeira linha do arquivo quando se usa o comando **git log**."
   ]
  },
  {
   "cell_type": "markdown",
   "id": "5d398296",
   "metadata": {},
   "source": [
    "# Comandos importantes para arquivos .bat"
   ]
  },
  {
   "cell_type": "code",
   "execution_count": null,
   "id": "3d547edc",
   "metadata": {},
   "outputs": [],
   "source": []
  }
 ],
 "metadata": {
  "kernelspec": {
   "display_name": "Python 3 (ipykernel)",
   "language": "python",
   "name": "python3"
  },
  "language_info": {
   "codemirror_mode": {
    "name": "ipython",
    "version": 3
   },
   "file_extension": ".py",
   "mimetype": "text/x-python",
   "name": "python",
   "nbconvert_exporter": "python",
   "pygments_lexer": "ipython3",
   "version": "3.9.13"
  }
 },
 "nbformat": 4,
 "nbformat_minor": 5
}
