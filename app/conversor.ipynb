{
 "cells": [
  {
   "cell_type": "code",
   "execution_count": 17,
   "id": "f0f5c4ca",
   "metadata": {},
   "outputs": [],
   "source": [
    "#Essa parte vai ler outros arquivos do tipo CSV e vai converter para Sqlite3 e SQL.\n",
    "# Isso vai facilitar a inserção de grandes volumes dados no banco de dados.\n",
    "# A gente vai começar o desenvolvimento disso no Jupyter Notbook porque é mais fácil e rápido de fazer testes. Depois é só copiar pra cá que tá tudo certo!\n",
    "# A estrutura de leitura vai ser a mesma que já desenvolvi pra ler planilhas porque ela é muito funcional!\n",
    "# A estrutura de escrita no outro formato é que vou ter que adaptar pra usar os itens lidos no documento 'csv'\n",
    "\n",
    "import datetime as dt\n",
    "from openpyxl import Workbook, load_workbook\n",
    "from openpyxl.styles import PatternFill, Font\n",
    "import glob\n",
    "import pandas as pd\n",
    "import numpy as np\n",
    "import matplotlib.pyplot\n",
    "import warnings\n",
    "warnings.simplefilter(action='ignore', category=UserWarning)#Isso aqui é pra tirar um aviso de erro"
   ]
  },
  {
   "cell_type": "code",
   "execution_count": 18,
   "id": "9559887c",
   "metadata": {},
   "outputs": [
    {
     "name": "stdout",
     "output_type": "stream",
     "text": [
      "Minutagem inicial 29\n",
      "\n",
      "-=-=-=-=-=-=-=-=-=-=-=-=-=-=-=-=-=-=LISTA DE ARQUIVOS NA PASTA=-=-=-=-=-=-=-=-=-=-=-=-=-=-=-=-=-=-\n",
      "\n"
     ]
    }
   ],
   "source": [
    "tempoInicial = dt.datetime.now().minute\n",
    "print(f'Minutagem inicial {tempoInicial}')\n",
    "\n",
    "#Criando lista de diretórios de arquivos do excel\n",
    "arquivos = glob.glob('01 - MÊS ATUAL\\*CONTROLE DIÁRIO*\\*.xlsm') #Aqui ele vai pegar qualquer item com a extensão 'xlsm' do diretório passado\n",
    "print(\"\\n-=-=-=-=-=-=-=-=-=-=-=-=-=-=-=-=-=-=LISTA DE ARQUIVOS NA PASTA=-=-=-=-=-=-=-=-=-=-=-=-=-=-=-=-=-=-\\n\")\n",
    "c = 0\n",
    "for i in arquivos:\n",
    "    print(arquivos[c])\n",
    "    c += 1"
   ]
  },
  {
   "cell_type": "code",
   "execution_count": 19,
   "id": "52f460d2",
   "metadata": {},
   "outputs": [
    {
     "name": "stdout",
     "output_type": "stream",
     "text": [
      "\n",
      "-=-=-=-=-=-=-=-=-=-=-=-=-=-=-=-=-=-=INICIANDO A LEITURA DOS ARQUIVOS=-=-=-=-=-=-=-=-=-=-=-=-=-=-=-=-=-=-\n",
      "\n",
      "Aqui estamos verificando o mês da coluna 9\n",
      "\n",
      "\n",
      "Foram lidos 0 arquivos!\n",
      "Foram encontradas: 0 abas de \"ATIVOS\"!\n"
     ]
    }
   ],
   "source": [
    "#Listando as abas \"ATIVOS\" lidas de dentro dos documentos do excel listados em \"arquivos\"\n",
    "#Obs: Até aqui não dá pra ler diretamente da variável \"arquivos\" porque ela só contém os nomes dos arquivos!\n",
    "print(\"\\n-=-=-=-=-=-=-=-=-=-=-=-=-=-=-=-=-=-=INICIANDO A LEITURA DOS ARQUIVOS=-=-=-=-=-=-=-=-=-=-=-=-=-=-=-=-=-=-\\n\")\n",
    "\n",
    "mesAnterior = [5, 6, 7, 8, 9, 10, 11, 12, 13, 14, 15, 16]\n",
    "dataMes = dt.datetime.now().month #Posição da coluna do mês\n",
    "\n",
    "if dataMes == 1:\n",
    "    dataMes = mesAnterior[11]\n",
    "else:\n",
    "    dataMes = mesAnterior[dataMes - 2]\n",
    "print(f'Aqui estamos verificando o mês da coluna {dataMes}\\n')\n",
    "\n",
    "abas_ATIVOS = [] #Lista de abas com o nome \"ATIVOS\". cada elemento dentro da lista vai ser um DataFrame da aba \"ATIVOS\" de cada arquivo\n",
    "c = 0\n",
    "for i in arquivos:\n",
    "    abas_ATIVOS.append(pd.read_excel(arquivos[c], sheet_name = 'ATIVOS', usecols=[2, 4, dataMes, 17, 18, 21, 22, 23, 25, 26,  28, 29, 30, 31, 70, 94, 95, 97])) #Adicionando as abas \"ATIVOS\" dentro da lista \"abas_ATIVOS\"\n",
    "    #acho que dá pra fazer a verificação que de colunas aqui mesmo, que aí ele lê o arquivo, analisa e entrega logo os erros de uma por vez!\n",
    "    print(f'Arquivo {c}: \"{arquivos[c]}\" lido com sucesso!')\n",
    "    c +=1\n",
    "\n",
    "print(f'\\nForam lidos {len(arquivos)} arquivos!')\n",
    "print(f'Foram encontradas: {len(abas_ATIVOS)} abas de \"ATIVOS\"!')"
   ]
  },
  {
   "cell_type": "code",
   "execution_count": 12,
   "id": "4d7f2944",
   "metadata": {},
   "outputs": [
    {
     "name": "stdout",
     "output_type": "stream",
     "text": [
      "\n",
      "-=-=-=-=-=-=-=-=-=-=-=-=-=-=-=-=-=-= DROPANDO COLUNAS DESNECESSÁRIAS E RENOMEANDO AS COLUNAS CORRETAMENTE =-=-=-=-=-=-=-=-=-=-=-=-=-=-=-=-=-=-\n",
      "\n",
      "COLUNAS DROPADAS E RENOMEADAS de todas as 0 abas de \"ATIVOS\"!\n"
     ]
    }
   ],
   "source": [
    "print(\"\\n-=-=-=-=-=-=-=-=-=-=-=-=-=-=-=-=-=-= DROPANDO COLUNAS DESNECESSÁRIAS E RENOMEANDO AS COLUNAS CORRETAMENTE =-=-=-=-=-=-=-=-=-=-=-=-=-=-=-=-=-=-\\n\")\n",
    "#Aqui a gente ajeita as tabelas, dropa colunas desnecessárias, linhas \"NaN\" e renomea as colunas de cada arquivo.\n",
    "arqsplitsss = []\n",
    "c = 0\n",
    "for i in arquivos:\n",
    "    #Dropando as colunas pelo índice! (Se for mexer aqui lembra que tem que usar o índice da coluna, não o nome, e mais o \"axis=1\", indicando que estamos mexendo com as colunas pelo índice)\n",
    "    #IMPORTANTE: AQUI DA COLUNA 5 À 16 TODAS TEM QUE SER DROPADAS, MENOS A DO MÊS VIGENTE!\n",
    "#    abas_ATIVOS[c] = abas_ATIVOS[c].drop(abas_ATIVOS[c].columns[colunasadropar], axis=1)\n",
    "    \n",
    "    #Dropando linhas \"NaN\", com base na coluna 0.\n",
    "    abas_ATIVOS[c] = abas_ATIVOS[c].dropna(subset=[abas_ATIVOS[c].columns[0]])\n",
    "    \n",
    "    #Dropando a linha '0' porque ela tem só títulos e tá tudo fora de padrão, daí não servem\n",
    "    abas_ATIVOS[c] = abas_ATIVOS[c].drop(0, axis=0)\n",
    "    \n",
    "    #Modificando o cabeçalhos das coluna de cada arquivo\n",
    "    abas_ATIVOS[c].columns = [\"N° FORM\", \"STATUS\", \"MÊS\", \"CONDIÇÃO SOCIAL\", \"NOME\", \"NASCIMENTO\", \"IDADE\", \"SEXO\", \"NOME DO PAI\", \"NOME DA MÃE\", \"CPF\", \"NIS\", \"RG OU RNE\", \"ÓRGÃO EMISSOR\", \"REGIÃO ADMINISTRATIVA\", \"DATA 1° ABORDAGEM\", \"DATA DA ÚLTIMA ABORDAGEM\", \"STATUS SEAS\"]\n",
    "    \n",
    "    #Inserindo a coluna \"EQUIPE\" com o nome da equipe:\n",
    "    arqsplits = arquivos[c].split(' - ') #Isso aqui é só pra pegar o número da equipe\n",
    "    abas_ATIVOS[c].insert(0, 'EQUIPE', arqsplits[3]) #ISSO AQUI A GENTE VAI TENTAR PEGAR FAZENDO UM SPLIT PELO TRAÇO: '-' E PEGANDO UM BLOCO, É BOM PORQUE AÍ CONSIGO PEGAR O NOME DA CIDADE, DA EQUIPE E DO SUPERVISOR!\n",
    "    c += 1\n",
    "    \n",
    "    #Isso aqui é pra adicionar o nome dos arquivos numa lista, pra depois puxar os mesmos nomes pras colunas que vão usar elas\n",
    "    arqsplitsss.append(arqsplits)\n",
    "#Total de abas \"ATIVOS\" encontradas\n",
    "print(f'COLUNAS DROPADAS E RENOMEADAS de todas as {len(abas_ATIVOS)} abas de \"ATIVOS\"!')\n"
   ]
  },
  {
   "cell_type": "code",
   "execution_count": 13,
   "id": "bbbbcf76",
   "metadata": {},
   "outputs": [
    {
     "data": {
      "text/plain": [
       "'for i in arqsplitsss:\\n    print(i)\\n\\n#print(arqsplits[3], arqsplits[4])'"
      ]
     },
     "execution_count": 13,
     "metadata": {},
     "output_type": "execute_result"
    }
   ],
   "source": [
    "#Só teste aqui pra ver os arquivos que tão indo pra lista de arqsplitsss\n",
    "'''for i in arqsplitsss:\n",
    "    print(i)\n",
    "\n",
    "#print(arqsplits[3], arqsplits[4])'''"
   ]
  },
  {
   "cell_type": "code",
   "execution_count": 14,
   "id": "fe3012c2",
   "metadata": {},
   "outputs": [
    {
     "name": "stdout",
     "output_type": "stream",
     "text": [
      "\n",
      "-=-=-=-=-=-=-=-=-=-=-=-=-=-=-=-=-=-= ENCONTRANDO ERROS NAS PLANILHAS =-=-=-=-=-=-=-=-=-=-=-=-=-=-=-=-=-=-\n",
      "\n"
     ]
    }
   ],
   "source": [
    "print(\"\\n-=-=-=-=-=-=-=-=-=-=-=-=-=-=-=-=-=-= ENCONTRANDO ERROS NAS PLANILHAS =-=-=-=-=-=-=-=-=-=-=-=-=-=-=-=-=-=-\\n\")\n",
    "#PRA CADA ARQUIVO TEM QUE PEGAR A COLUNA E PRA CADA LINHA TEM QUE PEGAR UM ITEM E FAZER UMA COMPARAÇÃO\n",
    "c = 0\n",
    "for i in arquivos:\n",
    "    #NOME DO DOCUMENTO QUE ESTÁ SENDO ANALIZADO, SÓ PRECISA ESTAR NESSA PARTE PORQUE SE COLOCAR MAIS ADIANTE ELE DUPLICA O NOME NA EXIBIÇÃO.\n",
    "    print('\\033[1m' + f'{arquivos[c]}' + '\\033[0m')\n",
    "\n",
    "    #ACHANDO ERROS NA COLUNA 'STATUS'\n",
    "    coluna = ['ATENDIDO', 'ACOMPANHADO', 'IDENTIFICADO']\n",
    "    erroCol = []\n",
    "    erro = []\n",
    "    itens = 0\n",
    "    erroNum = 0\n",
    "\n",
    "    for i in abas_ATIVOS[c]['STATUS']: #Para cada item da coluna 'STATUS':\n",
    "        if i not in coluna: #SE O ITEM NÃO ESTIVER NA LISTA 'COLUNA':\n",
    "            erroCol.append(i) #ADICIONA O ITEM À LISTA DE ERROS\n",
    "            erro.append(itens) #ADICIONA O NÚMERO DA LINHA QUE O ITEM ESTÁ NA LISTA 'ERRO'\n",
    "        itens += 1\n",
    "\n",
    "    if len(erroCol) != 0:\n",
    "        print(f'FORAM ENCONTRADOS {len(erroCol)} ERROS NA COLUNA \"STATUS\":')\n",
    "        for i in erro:\n",
    "            print('\\033[91m', '\\033[1m', '\\033[4m', f'LINHA {i+3} >>> ERRO: {erroCol[erroNum]}', '\\033[0m', '\\033[0m', '\\033[0m')\n",
    "            erroNum += 1\n",
    "            \n",
    "            \n",
    "            \n",
    "    #ACHANDO ERROS NA COLUNA 'MÊS'\n",
    "    coluna = ['ENCONTRADO', 'NÃO ENCONTRADO']\n",
    "    erroCol = []\n",
    "    erro = []\n",
    "    itens = 0\n",
    "    erroNum = 0\n",
    "\n",
    "    for i in abas_ATIVOS[c]['MÊS']:\n",
    "        if i not in coluna:\n",
    "            erroCol.append(i)\n",
    "            erro.append(itens)\n",
    "        itens += 1\n",
    "\n",
    "    if len(erroCol) != 0:\n",
    "        print(f'FORAM ENCONTRADOS {len(erroCol)} ERROS NA COLUNA \"MÊS\":')\n",
    "        for i in erro:\n",
    "            print('\\033[91m', '\\033[1m', '\\033[4m', f'LINHA {i+3} >>> ERRO: {erroCol[erroNum]}', '\\033[0m', '\\033[0m', '\\033[0m')\n",
    "            erroNum += 1\n",
    "            \n",
    "            \n",
    "            \n",
    "    #ACHANDO ERROS NA COLUNA 'CONDIÇÃO SOCIAL'\n",
    "    coluna = [\"C.H.A.F\", \"C.H.D.F\", \"C.M.A.F\", \"C.M.D.F\", \"A.H.A.F\", \"A.H.D.F\", \"A.M.A.F\", \"A.M.D.F\", \"M.A\", \"M.I\", \"H.A\", \"H.I\"]\n",
    "    erroCol = []\n",
    "    erro = []\n",
    "    itens = 0\n",
    "    erroNum = 0\n",
    "\n",
    "    for i in abas_ATIVOS[c]['CONDIÇÃO SOCIAL']:\n",
    "        if i not in coluna:\n",
    "            erroCol.append(i)\n",
    "            erro.append(itens)\n",
    "        itens += 1\n",
    "\n",
    "    if len(erroCol) != 0:\n",
    "        print(f'FORAM ENCONTRADOS {len(erroCol)} ERROS NA COLUNA \"CONDIÇÃO SOCIAL\":')\n",
    "        for i in erro:\n",
    "            print('\\033[91m', '\\033[1m', '\\033[4m', f'LINHA {i+3} >>> ERRO: {erroCol[erroNum]}', '\\033[0m', '\\033[0m', '\\033[0m')\n",
    "            erroNum += 1\n",
    "            \n",
    "            \n",
    "            \n",
    "    #ACHANDO ERROS NA COLUNA DE \"DATA DA 1° ABORDAGEM\"\n",
    "    linha_DATA_1_ABORDAGEM = 0\n",
    "    for row in abas_ATIVOS[c]['DATA 1° ABORDAGEM']:\n",
    "        if type(row) == dt.datetime:\n",
    "            if row < dt.datetime(2018, 1, 1, 0, 0):\n",
    "                print(f\"FORAM ENCONTRADOS ERROS NA COLUNA 'DATA DA 1ª ABORDAGEM':\")\n",
    "                print('\\033[91m', '\\033[1m', '\\033[4m', f'LINHA {linha_DATA_1_ABORDAGEM+3} \\nERRO: {row}\\nO SEAS NÃO FUNCIONAVA ANTES DE 2018', '\\033[0m', '\\033[0m', '\\033[0m')\n",
    "        linha_DATA_1_ABORDAGEM += 1\n",
    "        \n",
    "        \n",
    "# BLOCO DESATIVADO TEMPORARIAMENTE PQ A DANI PEDIU PARA TODOS RETIRAREM AS DATAS DE ÚLTIMA ABORDAGEM\n",
    "#    #ACHANDO ERROS NA COLUNA DE \"DATA DA ÚLTIMA ABORDAGEM\"\n",
    "#    erroCol = []\n",
    "#    erro = []\n",
    "#    itens = 0\n",
    "#    erroNum = 0\n",
    "#\n",
    "#    for row in abas_ATIVOS[c][\"DATA DA ÚLTIMA ABORDAGEM\"]: #Aqui a gente tá pegando cada linha da aba de ativos, coluna mês\n",
    "#        if type(row) == dt.datetime:#Se tiver fora do range aí bota na lista tbm\n",
    "#            if row > dt.datetime.now() or row < dt.datetime(2018, 1, 1, 0, 0):\n",
    "#                erro.append(itens)\n",
    "#                erroCol.append(row)\n",
    "#        elif type(row) == float:\n",
    "#            erro.append(itens)\n",
    "#            erroCol.append(row)\n",
    "#        \n",
    "#        itens += 1\n",
    "#\n",
    "#    if len(erroCol) != 0:\n",
    "#        print(f'FORAM ENCONTRADOS {len(erroCol)} NA COLUNA \"DATA DA ÚLTIMA ABORDAGEM\"')\n",
    "#        for i in erro:\n",
    "#            print('\\033[91m', '\\033[1m', '\\033[4m', f'LINHA {i+3} >>> ERRO: {erroCol[erroNum]}', '\\033[0m', '\\033[0m', '\\033[0m')\n",
    "#            erroNum += 1\n",
    "    \n",
    "    \n",
    "        \n",
    "    #ACHANDO ERROS NA COLUNA 'STATUS SEAS'\n",
    "    coluna = ['ACOMPANHADO EQUIPAMENTO', 'ATENDIDO', 'IDENTIFICADO', 'ACOMPANHADO SEAS']\n",
    "    erroCol = []\n",
    "    erro = []\n",
    "    itens = 0\n",
    "    erroNum = 0\n",
    "\n",
    "    for i in abas_ATIVOS[c]['STATUS SEAS']:\n",
    "        if i not in coluna:\n",
    "            erroCol.append(i)\n",
    "            erro.append(itens)\n",
    "        itens += 1\n",
    "\n",
    "    if len(erroCol) != 0:\n",
    "        print(f'FORAM ENCONTRADOS {len(erroCol)} ERROS NA COLUNA \"STATUS SEAS\":')\n",
    "        for i in erro:\n",
    "            print('\\033[91m', '\\033[1m', '\\033[4m', f'LINHA {i+3} >>> ERRO: {erroCol[erroNum]}', '\\033[0m', '\\033[0m', '\\033[0m')\n",
    "            erroNum += 1\n",
    "            \n",
    "            \n",
    "            \n",
    "    #ACHANDO ERROS NA COLUNA 'NOME' --- NÃO TÁ FUNCIONANDO ---\n",
    "    coluna = ['', ' ', 'Nan', 'nan']\n",
    "    erroCol = []\n",
    "    erro = []\n",
    "    itens = 0\n",
    "\n",
    "    for i in abas_ATIVOS[c]['NOME']:\n",
    "        if i in coluna:\n",
    "            erroCol.append(i)\n",
    "            erro.append(itens)\n",
    "        itens += 1\n",
    "\n",
    "        \n",
    "    \n",
    "    #Encontrando o erro da coluna 'N° Form'\n",
    "    #Se o total de itens do índice (Index) for diferente do valor do último item então falta um item no 'Nº FORM'\n",
    "    #Obs: Se alguma planilha não tiver nenhum item em ativos vai dar um erro!\n",
    "    #ISSO É MUITO IMPORTANTE PORQUE PODE DAR ERRO NAS OUTRAS LINHAS!\n",
    "    if len(abas_ATIVOS[c].index) != abas_ATIVOS[c].index[-1]:\n",
    "        toterros = abas_ATIVOS[c].index[-1] - abas_ATIVOS[c].index\n",
    "        print(f'FORAM ENCONTRADOS ERROS NA COLUNA \"Nº FORM\"\\n(LEMBRANDO QUE POR CAUSA DESSE ERRO, PODEM NÃO SER IDENTIFICADOS OUTROS ERROS NA TABELA!)')\n",
    "        print('\\033[91m', '\\033[1m', '\\033[4m',\n",
    "              f'{len(abas_ATIVOS[c].index)} LINHAS PREENCHIDAS DE {abas_ATIVOS[c].index[-1]} LINHAS EXISTENTES!', '\\033[0m', '\\033[0m', '\\033[0m', '\\033[0m')\n",
    "    print('-=-=-=-=-=-=-=-=-=-=-=-=-=-=-=-=-=-=-=-=-=-=-=-=-=-=-=-=-=-=-=-=-=-=-=-=-=-=-=-=-=-=-=-=-=-=-=-=-=-=-=-=-=-=-=-=-=-=-=-=-=-=\\n\\n')\n",
    "    c += 1\n"
   ]
  },
  {
   "cell_type": "code",
   "execution_count": 15,
   "id": "8ce3589d",
   "metadata": {},
   "outputs": [
    {
     "name": "stdout",
     "output_type": "stream",
     "text": [
      "\n",
      "-=-=-=-=-=-=-=-=-=-=-=-=-=-=-=-=-=-= CONCATENANDO TODOS OS DATAFRAMES =-=-=-=-=-=-=-=-=-=-=-=-=-=-=-=-=-=-\n",
      "\n"
     ]
    },
    {
     "ename": "ValueError",
     "evalue": "No objects to concatenate",
     "output_type": "error",
     "traceback": [
      "\u001b[1;31m---------------------------------------------------------------------------\u001b[0m",
      "\u001b[1;31mValueError\u001b[0m                                Traceback (most recent call last)",
      "\u001b[1;32m~\\AppData\\Local\\Temp\\ipykernel_13700\\2226416675.py\u001b[0m in \u001b[0;36m<module>\u001b[1;34m\u001b[0m\n\u001b[0;32m      1\u001b[0m \u001b[0mprint\u001b[0m\u001b[1;33m(\u001b[0m\u001b[1;34m\"\\n-=-=-=-=-=-=-=-=-=-=-=-=-=-=-=-=-=-= CONCATENANDO TODOS OS DATAFRAMES =-=-=-=-=-=-=-=-=-=-=-=-=-=-=-=-=-=-\\n\"\u001b[0m\u001b[1;33m)\u001b[0m\u001b[1;33m\u001b[0m\u001b[1;33m\u001b[0m\u001b[0m\n\u001b[0;32m      2\u001b[0m \u001b[1;31m#Aqui a gente tá adicionando todos os arquivos lidos na lista \"abas_ATIVOS\" num mesmo dataframe\u001b[0m\u001b[1;33m\u001b[0m\u001b[1;33m\u001b[0m\u001b[0m\n\u001b[1;32m----> 3\u001b[1;33m \u001b[0mconct\u001b[0m \u001b[1;33m=\u001b[0m \u001b[0mpd\u001b[0m\u001b[1;33m.\u001b[0m\u001b[0mconcat\u001b[0m\u001b[1;33m(\u001b[0m\u001b[0mabas_ATIVOS\u001b[0m\u001b[1;33m)\u001b[0m\u001b[1;33m\u001b[0m\u001b[1;33m\u001b[0m\u001b[0m\n\u001b[0m\u001b[0;32m      4\u001b[0m \u001b[1;33m\u001b[0m\u001b[0m\n\u001b[0;32m      5\u001b[0m \u001b[1;31m#Aqui a gente tá contando o total de gente encontrada no período!\u001b[0m\u001b[1;33m\u001b[0m\u001b[1;33m\u001b[0m\u001b[0m\n",
      "\u001b[1;32m~\\anaconda3\\lib\\site-packages\\pandas\\util\\_decorators.py\u001b[0m in \u001b[0;36mwrapper\u001b[1;34m(*args, **kwargs)\u001b[0m\n\u001b[0;32m    309\u001b[0m                     \u001b[0mstacklevel\u001b[0m\u001b[1;33m=\u001b[0m\u001b[0mstacklevel\u001b[0m\u001b[1;33m,\u001b[0m\u001b[1;33m\u001b[0m\u001b[1;33m\u001b[0m\u001b[0m\n\u001b[0;32m    310\u001b[0m                 )\n\u001b[1;32m--> 311\u001b[1;33m             \u001b[1;32mreturn\u001b[0m \u001b[0mfunc\u001b[0m\u001b[1;33m(\u001b[0m\u001b[1;33m*\u001b[0m\u001b[0margs\u001b[0m\u001b[1;33m,\u001b[0m \u001b[1;33m**\u001b[0m\u001b[0mkwargs\u001b[0m\u001b[1;33m)\u001b[0m\u001b[1;33m\u001b[0m\u001b[1;33m\u001b[0m\u001b[0m\n\u001b[0m\u001b[0;32m    312\u001b[0m \u001b[1;33m\u001b[0m\u001b[0m\n\u001b[0;32m    313\u001b[0m         \u001b[1;32mreturn\u001b[0m \u001b[0mwrapper\u001b[0m\u001b[1;33m\u001b[0m\u001b[1;33m\u001b[0m\u001b[0m\n",
      "\u001b[1;32m~\\anaconda3\\lib\\site-packages\\pandas\\core\\reshape\\concat.py\u001b[0m in \u001b[0;36mconcat\u001b[1;34m(objs, axis, join, ignore_index, keys, levels, names, verify_integrity, sort, copy)\u001b[0m\n\u001b[0;32m    345\u001b[0m     \u001b[0mValueError\u001b[0m\u001b[1;33m:\u001b[0m \u001b[0mIndexes\u001b[0m \u001b[0mhave\u001b[0m \u001b[0moverlapping\u001b[0m \u001b[0mvalues\u001b[0m\u001b[1;33m:\u001b[0m \u001b[1;33m[\u001b[0m\u001b[1;34m'a'\u001b[0m\u001b[1;33m]\u001b[0m\u001b[1;33m\u001b[0m\u001b[1;33m\u001b[0m\u001b[0m\n\u001b[0;32m    346\u001b[0m     \"\"\"\n\u001b[1;32m--> 347\u001b[1;33m     op = _Concatenator(\n\u001b[0m\u001b[0;32m    348\u001b[0m         \u001b[0mobjs\u001b[0m\u001b[1;33m,\u001b[0m\u001b[1;33m\u001b[0m\u001b[1;33m\u001b[0m\u001b[0m\n\u001b[0;32m    349\u001b[0m         \u001b[0maxis\u001b[0m\u001b[1;33m=\u001b[0m\u001b[0maxis\u001b[0m\u001b[1;33m,\u001b[0m\u001b[1;33m\u001b[0m\u001b[1;33m\u001b[0m\u001b[0m\n",
      "\u001b[1;32m~\\anaconda3\\lib\\site-packages\\pandas\\core\\reshape\\concat.py\u001b[0m in \u001b[0;36m__init__\u001b[1;34m(self, objs, axis, join, keys, levels, names, ignore_index, verify_integrity, copy, sort)\u001b[0m\n\u001b[0;32m    402\u001b[0m \u001b[1;33m\u001b[0m\u001b[0m\n\u001b[0;32m    403\u001b[0m         \u001b[1;32mif\u001b[0m \u001b[0mlen\u001b[0m\u001b[1;33m(\u001b[0m\u001b[0mobjs\u001b[0m\u001b[1;33m)\u001b[0m \u001b[1;33m==\u001b[0m \u001b[1;36m0\u001b[0m\u001b[1;33m:\u001b[0m\u001b[1;33m\u001b[0m\u001b[1;33m\u001b[0m\u001b[0m\n\u001b[1;32m--> 404\u001b[1;33m             \u001b[1;32mraise\u001b[0m \u001b[0mValueError\u001b[0m\u001b[1;33m(\u001b[0m\u001b[1;34m\"No objects to concatenate\"\u001b[0m\u001b[1;33m)\u001b[0m\u001b[1;33m\u001b[0m\u001b[1;33m\u001b[0m\u001b[0m\n\u001b[0m\u001b[0;32m    405\u001b[0m \u001b[1;33m\u001b[0m\u001b[0m\n\u001b[0;32m    406\u001b[0m         \u001b[1;32mif\u001b[0m \u001b[0mkeys\u001b[0m \u001b[1;32mis\u001b[0m \u001b[1;32mNone\u001b[0m\u001b[1;33m:\u001b[0m\u001b[1;33m\u001b[0m\u001b[1;33m\u001b[0m\u001b[0m\n",
      "\u001b[1;31mValueError\u001b[0m: No objects to concatenate"
     ]
    }
   ],
   "source": [
    "print(\"\\n-=-=-=-=-=-=-=-=-=-=-=-=-=-=-=-=-=-= CONCATENANDO TODOS OS DATAFRAMES =-=-=-=-=-=-=-=-=-=-=-=-=-=-=-=-=-=-\\n\")\n",
    "#Aqui a gente tá adicionando todos os arquivos lidos na lista \"abas_ATIVOS\" num mesmo dataframe\n",
    "conct = pd.concat(abas_ATIVOS)\n",
    "\n",
    "#Aqui a gente tá contando o total de gente encontrada no período!\n",
    "c = 0\n",
    "for linha in conct['MÊS']:\n",
    "    if linha == 'ENCONTRADO':\n",
    "        c += 1\n",
    "#Aqui, se eu quiser colocar uma formatação legal, depois vou ter que adicionar cada item em uma lista e através dela formatar mais bonitinho.\n",
    "print(f'ENCONTRADOS {c} no período')\n",
    "print(f'NÃO ENCONTRADOS {conct[conct.columns[0]].count() - c} no período')\n",
    "print(f'ATIVOS: {conct[conct.columns[0]].count()} registros no documento')\n",
    "conct"
   ]
  },
  {
   "cell_type": "code",
   "execution_count": 16,
   "id": "1997e06a",
   "metadata": {},
   "outputs": [
    {
     "name": "stdout",
     "output_type": "stream",
     "text": [
      "\n",
      "-=-=-=-=-=-=-=-=-=-=-=-=-=-=-=-=-=-= FINALIZANDO E SALVANDO OS DADOS =-=-=-=-=-=-=-=-=-=-=-=-=-=-=-=-=-=-\n",
      "\n"
     ]
    },
    {
     "ename": "NameError",
     "evalue": "name 'conct' is not defined",
     "output_type": "error",
     "traceback": [
      "\u001b[1;31m---------------------------------------------------------------------------\u001b[0m",
      "\u001b[1;31mNameError\u001b[0m                                 Traceback (most recent call last)",
      "\u001b[1;32m~\\AppData\\Local\\Temp\\ipykernel_13700\\1679762716.py\u001b[0m in \u001b[0;36m<module>\u001b[1;34m\u001b[0m\n\u001b[0;32m     12\u001b[0m     \u001b[0mdataMesCSV\u001b[0m \u001b[1;33m=\u001b[0m \u001b[0mmes\u001b[0m\u001b[1;33m[\u001b[0m\u001b[0mdataMesCSV\u001b[0m \u001b[1;33m-\u001b[0m \u001b[1;36m1\u001b[0m\u001b[1;33m]\u001b[0m\u001b[1;33m\u001b[0m\u001b[1;33m\u001b[0m\u001b[0m\n\u001b[0;32m     13\u001b[0m \u001b[1;33m\u001b[0m\u001b[0m\n\u001b[1;32m---> 14\u001b[1;33m \u001b[0mconct\u001b[0m\u001b[1;33m.\u001b[0m\u001b[0mto_excel\u001b[0m\u001b[1;33m(\u001b[0m\u001b[1;34mf\"_01_Relatório Mensal - {dataMesCSV} DE {dt.datetime.now().year}.xlsx\"\u001b[0m\u001b[1;33m)\u001b[0m\u001b[1;33m\u001b[0m\u001b[1;33m\u001b[0m\u001b[0m\n\u001b[0m\u001b[0;32m     15\u001b[0m \u001b[1;31m#print(conct)\u001b[0m\u001b[1;33m\u001b[0m\u001b[1;33m\u001b[0m\u001b[0m\n\u001b[0;32m     16\u001b[0m \u001b[1;33m\u001b[0m\u001b[0m\n",
      "\u001b[1;31mNameError\u001b[0m: name 'conct' is not defined"
     ]
    }
   ],
   "source": [
    "print(\"\\n-=-=-=-=-=-=-=-=-=-=-=-=-=-=-=-=-=-= FINALIZANDO E SALVANDO OS DADOS =-=-=-=-=-=-=-=-=-=-=-=-=-=-=-=-=-=-\\n\")\n",
    "#ANTES DISSO AQUI A GENTE PRECISA FAZER A PRIMEIRA COLUNA TER O NÚMERO DA EQUIPE E A REGIÃO (\"EQUIPE 00 - REGIÃO ADMINISTRATIVA\")\n",
    "#ARRUMANDO A DATA PARA O NOME DO ARQUIVO\n",
    "mes = {1: 'JANEIRO', 2: 'FEVEREIRO', 3:'MARÇO', 4: 'ABRIL', 5:'MAIO', 6:'JUNHO', 7:'JULHO', 8:'AGOSTO', 9:'SETEMBRO', 10:'OUTUBRO', 11:'NOVEMBRO', 12:'DEZEMBRO'}\n",
    "#EXPORTANDO O DATAFRAME, COMO DOCUMENTO .CSV\n",
    "\n",
    "dataMesCSV = dt.datetime.now().month #Posição da coluna do mês\n",
    "\n",
    "if dataMesCSV == 1:\n",
    "    dataMesCSV = mes[12]\n",
    "else:\n",
    "    dataMesCSV = mes[dataMesCSV - 1]\n",
    "\n",
    "conct.to_excel(f\"_01_Relatório Mensal - {dataMesCSV} DE {dt.datetime.now().year}.xlsx\")\n",
    "#print(conct)\n",
    "\n",
    "tempoFinal = dt.datetime.now().minute\n",
    "tempoExecusao = tempoFinal - tempoInicial\n",
    "print(f'A execusão demorou {tempoExecusao} min.\\nE já foi produzido o arquivo do excel!  ;)')"
   ]
  },
  {
   "cell_type": "code",
   "execution_count": null,
   "id": "c19847d2",
   "metadata": {},
   "outputs": [],
   "source": []
  },
  {
   "cell_type": "code",
   "execution_count": null,
   "id": "0838e8f5",
   "metadata": {},
   "outputs": [],
   "source": []
  },
  {
   "cell_type": "code",
   "execution_count": null,
   "id": "498c9d56",
   "metadata": {},
   "outputs": [],
   "source": []
  },
  {
   "cell_type": "code",
   "execution_count": null,
   "id": "8bfbbba9",
   "metadata": {},
   "outputs": [],
   "source": []
  }
 ],
 "metadata": {
  "kernelspec": {
   "display_name": "Python 3 (ipykernel)",
   "language": "python",
   "name": "python3"
  },
  "language_info": {
   "codemirror_mode": {
    "name": "ipython",
    "version": 3
   },
   "file_extension": ".py",
   "mimetype": "text/x-python",
   "name": "python",
   "nbconvert_exporter": "python",
   "pygments_lexer": "ipython3",
   "version": "3.9.13"
  }
 },
 "nbformat": 4,
 "nbformat_minor": 5
}
