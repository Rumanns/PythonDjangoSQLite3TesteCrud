{
 "cells": [
  {
   "cell_type": "code",
   "execution_count": null,
   "id": "90b1a9da",
   "metadata": {},
   "outputs": [],
   "source": [
    "#Essa parte vai ler outros arquivos do tipo CSV e vai converter para Sqlite3 e SQL.\n",
    "# Isso vai facilitar a inserção de grandes volumes dados no banco de dados.\n",
    "# A gente vai começar o desenvolvimento disso no Jupyter Notbook porque é mais fácil e rápido de fazer testes. Depois é só copiar pra cá que tá tudo certo!\n",
    "# A estrutura de leitura vai ser a mesma que já desenvolvi pra ler planilhas porque ela é muito funcional!\n",
    "# A estrutura de escrita no outro formato é que vou ter que adaptar pra usar os itens lidos no documento 'csv'\n",
    "\n",
    "import datetime as dt\n",
    "from openpyxl import Workbook, load_workbook\n",
    "from openpyxl.styles import PatternFill, Font\n",
    "import glob\n",
    "import pandas as pd\n",
    "import numpy as np\n",
    "import matplotlib.pyplot\n",
    "import warnings\n",
    "warnings.simplefilter(action='ignore', category=UserWarning)#Isso aqui é pra tirar um aviso de erro"
   ]
  }
 ],
 "metadata": {
  "kernelspec": {
   "display_name": "Python 3 (ipykernel)",
   "language": "python",
   "name": "python3"
  },
  "language_info": {
   "codemirror_mode": {
    "name": "ipython",
    "version": 3
   },
   "file_extension": ".py",
   "mimetype": "text/x-python",
   "name": "python",
   "nbconvert_exporter": "python",
   "pygments_lexer": "ipython3",
   "version": "3.9.13"
  }
 },
 "nbformat": 4,
 "nbformat_minor": 5
}
